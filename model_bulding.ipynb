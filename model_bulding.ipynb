{
 "cells": [
  {
   "cell_type": "code",
   "execution_count": 1,
   "metadata": {},
   "outputs": [],
   "source": [
    "import tensorflow as tf\n",
    "import os\n",
    "from tensorflow.keras.preprocessing.image import ImageDataGenerator\n",
    "from tensorflow.keras import layers, models\n",
    "import matplotlib.pyplot as plt\n",
    "import numpy as np\n",
    "from sklearn.model_selection import train_test_split\n",
    "from tensorflow import keras"
   ]
  },
  {
   "cell_type": "code",
   "execution_count": 2,
   "metadata": {},
   "outputs": [],
   "source": [
    "train_dir=r\"C:/Users/HP/OneDrive/Desktop/Facial Expressions/images/train\"\n",
    "test_dir=r\"C:/Users/HP/OneDrive/Desktop/Facial Expressions/images/validation\""
   ]
  },
  {
   "cell_type": "code",
   "execution_count": 3,
   "metadata": {},
   "outputs": [],
   "source": [
    "batch_size = 1\n",
    "img_height = 48\n",
    "img_width = 48"
   ]
  },
  {
   "cell_type": "code",
   "execution_count": 41,
   "metadata": {},
   "outputs": [
    {
     "name": "stdout",
     "output_type": "stream",
     "text": [
      "Found 28821 images belonging to 7 classes.\n"
     ]
    }
   ],
   "source": [
    "train_image_generator = ImageDataGenerator(rescale=1./255,rotation_range=20,\n",
    "    width_shift_range=0.2,\n",
    "    height_shift_range=0.2,\n",
    "    shear_range=0.2,\n",
    "    zoom_range=0.2,\n",
    "    horizontal_flip=True,\n",
    "    fill_mode='nearest'\n",
    "                                           )\n",
    "train_data_gen = train_image_generator.flow_from_directory(color_mode='rgb',directory=train_dir,shuffle=True,target_size=(img_height, img_width),class_mode='categorical')"
   ]
  },
  {
   "cell_type": "code",
   "execution_count": 40,
   "metadata": {},
   "outputs": [
    {
     "name": "stdout",
     "output_type": "stream",
     "text": [
      "Found 7066 images belonging to 7 classes.\n"
     ]
    }
   ],
   "source": [
    "val_image_generator = ImageDataGenerator(rescale=1./255)\n",
    "val_data_gen = val_image_generator.flow_from_directory(color_mode='rgb',directory=test_dir,shuffle=True,target_size=(img_height, img_width),class_mode='categorical')"
   ]
  },
  {
   "cell_type": "code",
   "execution_count": 20,
   "metadata": {},
   "outputs": [],
   "source": [
    "class_labels=['Angry','Disgust', 'Fear', 'Happy','Neutral','Sad','Surprise']"
   ]
  },
  {
   "cell_type": "code",
   "execution_count": 22,
   "metadata": {},
   "outputs": [],
   "source": [
    "img, label = train_data_gen.__next__()"
   ]
  },
  {
   "cell_type": "code",
   "execution_count": 23,
   "metadata": {},
   "outputs": [
    {
     "data": {
      "image/png": "[encoded data removed]",
      "text/plain": [
       "<Figure size 640x480 with 1 Axes>"
      ]
     },
     "metadata": {},
     "output_type": "display_data"
    }
   ],
   "source": [
    "import random\n",
    "\n",
    "i=random.randint(0, (img.shape[0])-1)\n",
    "image = img[i]\n",
    "labl = class_labels[label[i].argmax()]\n",
    "plt.imshow(image[:,:,0], cmap='gray')\n",
    "plt.title(labl)\n",
    "plt.show()"
   ]
  },
  {
   "cell_type": "code",
   "execution_count": 19,
   "metadata": {},
   "outputs": [],
   "source": [
    "import warnings\n",
    "\n",
    "\n",
    "import os\n",
    "import glob\n",
    "import matplotlib.pyplot as plt\n",
    "import keras\n",
    "from keras.models import Sequential\n",
    "from keras.layers import Dense,Dropout,Flatten\n",
    "from keras.layers import Conv2D,MaxPooling2D,Activation,AveragePooling2D,BatchNormalization"
   ]
  },
  {
   "cell_type": "code",
   "execution_count": 24,
   "metadata": {},
   "outputs": [],
   "source": [
    "model = tf.keras.models.Sequential([\n",
    "    # Note the input shape is the desired size of the image 300x300 with 3 bytes color\n",
    "    # This is the first convolution\n",
    "    tf.keras.layers.Conv2D(30, (3,3), activation='relu', input_shape=(48, 48, 1)),\n",
    "    tf.keras.layers.MaxPooling2D(2, 2),\n",
    "    # The second convolution\n",
    "    tf.keras.layers.Conv2D(40, (3,3), activation='relu'),\n",
    "    tf.keras.layers.MaxPooling2D(2,2),\n",
    "    # The third convolution\n",
    "    tf.keras.layers.Conv2D(30, (3,3), activation='relu'),\n",
    "    tf.keras.layers.MaxPooling2D(2,2),\n",
    "    # Flatten the results to feed into a DNN\n",
    "    tf.keras.layers.Flatten(),\n",
    "\n",
    "    tf.keras.layers.Dense(60, activation='relu'),\n",
    "    tf.keras.layers.Dense(7, activation='sigmoid')\n",
    "])"
   ]
  },
  {
   "cell_type": "code",
   "execution_count": 8,
   "metadata": {},
   "outputs": [
    {
     "name": "stdout",
     "output_type": "stream",
     "text": [
      "Model: \"sequential\"\n",
      "_________________________________________________________________\n",
      " Layer (type)                Output Shape              Param #   \n",
      "=================================================================\n",
      " conv2d (Conv2D)             (None, 47, 47, 30)        150       \n",
      "                                                                 \n",
      " max_pooling2d (MaxPooling2D  (None, 23, 23, 30)       0         \n",
      " )                                                               \n",
      "                                                                 \n",
      " conv2d_1 (Conv2D)           (None, 22, 22, 40)        4840      \n",
      "                                                                 \n",
      " max_pooling2d_1 (MaxPooling  (None, 11, 11, 40)       0         \n",
      " 2D)                                                             \n",
      "                                                                 \n",
      " conv2d_2 (Conv2D)           (None, 10, 10, 30)        4830      \n",
      "                                                                 \n",
      " max_pooling2d_2 (MaxPooling  (None, 5, 5, 30)         0         \n",
      " 2D)                                                             \n",
      "                                                                 \n",
      " flatten (Flatten)           (None, 750)               0         \n",
      "                                                                 \n",
      " dense (Dense)               (None, 60)                45060     \n",
      "                                                                 \n",
      " dense_1 (Dense)             (None, 7)                 427       \n",
      "                                                                 \n",
      "=================================================================\n",
      "Total params: 55,307\n",
      "Trainable params: 55,307\n",
      "Non-trainable params: 0\n",
      "_________________________________________________________________\n"
     ]
    }
   ],
   "source": [
    "model.summary()"
   ]
  },
  {
   "cell_type": "code",
   "execution_count": 25,
   "metadata": {},
   "outputs": [],
   "source": [
    "model.compile(optimizer= 'adam' , loss= 'categorical_crossentropy', metrics=['accuracy'])"
   ]
  },
  {
   "cell_type": "code",
   "execution_count": 26,
   "metadata": {},
   "outputs": [
    {
     "name": "stdout",
     "output_type": "stream",
     "text": [
      "Epoch 1/60\n",
      "901/901 [==============================] - 130s 142ms/step - loss: 1.7494 - accuracy: 0.2834 - val_loss: 1.5543 - val_accuracy: 0.4004\n",
      "Epoch 2/60\n",
      "901/901 [==============================] - 128s 142ms/step - loss: 1.5351 - accuracy: 0.4032 - val_loss: 1.3871 - val_accuracy: 0.4693\n",
      "Epoch 3/60\n",
      "901/901 [==============================] - 123s 137ms/step - loss: 1.4366 - accuracy: 0.4452 - val_loss: 1.3324 - val_accuracy: 0.4901\n",
      "Epoch 4/60\n",
      "901/901 [==============================] - 104s 116ms/step - loss: 1.3840 - accuracy: 0.4727 - val_loss: 1.2753 - val_accuracy: 0.5146\n",
      "Epoch 5/60\n",
      "901/901 [==============================] - 100s 111ms/step - loss: 1.3412 - accuracy: 0.4875 - val_loss: 1.2596 - val_accuracy: 0.5224\n",
      "Epoch 6/60\n",
      "901/901 [==============================] - 96s 106ms/step - loss: 1.3144 - accuracy: 0.5005 - val_loss: 1.2174 - val_accuracy: 0.5369\n",
      "Epoch 7/60\n",
      "901/901 [==============================] - 99s 109ms/step - loss: 1.2884 - accuracy: 0.5066 - val_loss: 1.1911 - val_accuracy: 0.5476\n",
      "Epoch 8/60\n",
      "901/901 [==============================] - 102s 113ms/step - loss: 1.2683 - accuracy: 0.5199 - val_loss: 1.1859 - val_accuracy: 0.5488\n",
      "Epoch 9/60\n",
      "901/901 [==============================] - 89s 99ms/step - loss: 1.2513 - accuracy: 0.5270 - val_loss: 1.1640 - val_accuracy: 0.5576\n",
      "Epoch 10/60\n",
      "901/901 [==============================] - 91s 101ms/step - loss: 1.2273 - accuracy: 0.5366 - val_loss: 1.1758 - val_accuracy: 0.5541\n",
      "Epoch 11/60\n",
      "901/901 [==============================] - 92s 102ms/step - loss: 1.2160 - accuracy: 0.5355 - val_loss: 1.1587 - val_accuracy: 0.5659\n",
      "Epoch 12/60\n",
      "901/901 [==============================] - 103s 114ms/step - loss: 1.2019 - accuracy: 0.5438 - val_loss: 1.1692 - val_accuracy: 0.5593\n",
      "Epoch 13/60\n",
      "901/901 [==============================] - 86s 96ms/step - loss: 1.1841 - accuracy: 0.5521 - val_loss: 1.1452 - val_accuracy: 0.5624\n",
      "Epoch 14/60\n",
      "901/901 [==============================] - 86s 95ms/step - loss: 1.1812 - accuracy: 0.5536 - val_loss: 1.1396 - val_accuracy: 0.5723\n",
      "Epoch 15/60\n",
      "901/901 [==============================] - 90s 100ms/step - loss: 1.1657 - accuracy: 0.5519 - val_loss: 1.1439 - val_accuracy: 0.5737\n",
      "Epoch 16/60\n",
      "901/901 [==============================] - 96s 106ms/step - loss: 1.1619 - accuracy: 0.5565 - val_loss: 1.1194 - val_accuracy: 0.5832\n",
      "Epoch 17/60\n",
      "901/901 [==============================] - 83s 92ms/step - loss: 1.1518 - accuracy: 0.5597 - val_loss: 1.1192 - val_accuracy: 0.5760\n",
      "Epoch 18/60\n",
      "901/901 [==============================] - 82s 91ms/step - loss: 1.1412 - accuracy: 0.5709 - val_loss: 1.1145 - val_accuracy: 0.5829\n",
      "Epoch 19/60\n",
      "901/901 [==============================] - 85s 95ms/step - loss: 1.1311 - accuracy: 0.5738 - val_loss: 1.1173 - val_accuracy: 0.5848\n",
      "Epoch 20/60\n",
      "901/901 [==============================] - 83s 93ms/step - loss: 1.1282 - accuracy: 0.5724 - val_loss: 1.1043 - val_accuracy: 0.5851\n",
      "Epoch 21/60\n",
      "901/901 [==============================] - 84s 93ms/step - loss: 1.1180 - accuracy: 0.5729 - val_loss: 1.1225 - val_accuracy: 0.5801\n",
      "Epoch 22/60\n",
      "901/901 [==============================] - 105s 116ms/step - loss: 1.1157 - accuracy: 0.5764 - val_loss: 1.1096 - val_accuracy: 0.5797\n",
      "Epoch 23/60\n",
      "901/901 [==============================] - 102s 113ms/step - loss: 1.1067 - accuracy: 0.5776 - val_loss: 1.1145 - val_accuracy: 0.5822\n",
      "Epoch 24/60\n",
      "901/901 [==============================] - 104s 116ms/step - loss: 1.0942 - accuracy: 0.5813 - val_loss: 1.1069 - val_accuracy: 0.5814\n",
      "Epoch 25/60\n",
      "901/901 [==============================] - 98s 109ms/step - loss: 1.0928 - accuracy: 0.5835 - val_loss: 1.1102 - val_accuracy: 0.5824\n",
      "Epoch 26/60\n",
      "901/901 [==============================] - 94s 104ms/step - loss: 1.0818 - accuracy: 0.5886 - val_loss: 1.0961 - val_accuracy: 0.5894\n",
      "Epoch 27/60\n",
      "901/901 [==============================] - 87s 97ms/step - loss: 1.0767 - accuracy: 0.5870 - val_loss: 1.0957 - val_accuracy: 0.5873\n",
      "Epoch 28/60\n",
      "901/901 [==============================] - 93s 104ms/step - loss: 1.0676 - accuracy: 0.5941 - val_loss: 1.1009 - val_accuracy: 0.5876\n",
      "Epoch 29/60\n",
      "901/901 [==============================] - 89s 98ms/step - loss: 1.0634 - accuracy: 0.5915 - val_loss: 1.1131 - val_accuracy: 0.5838\n",
      "Epoch 30/60\n",
      "901/901 [==============================] - 85s 95ms/step - loss: 1.0520 - accuracy: 0.5977 - val_loss: 1.1127 - val_accuracy: 0.5855\n",
      "Epoch 31/60\n",
      "901/901 [==============================] - 85s 95ms/step - loss: 1.0498 - accuracy: 0.6003 - val_loss: 1.1022 - val_accuracy: 0.5926\n",
      "Epoch 32/60\n",
      "901/901 [==============================] - 87s 96ms/step - loss: 1.0468 - accuracy: 0.6022 - val_loss: 1.0923 - val_accuracy: 0.5918\n",
      "Epoch 33/60\n",
      "901/901 [==============================] - 84s 94ms/step - loss: 1.0384 - accuracy: 0.6065 - val_loss: 1.0987 - val_accuracy: 0.5937\n",
      "Epoch 34/60\n",
      "901/901 [==============================] - 107s 119ms/step - loss: 1.0371 - accuracy: 0.6047 - val_loss: 1.0838 - val_accuracy: 0.6015\n",
      "Epoch 35/60\n",
      "901/901 [==============================] - 111s 123ms/step - loss: 1.0335 - accuracy: 0.6032 - val_loss: 1.0809 - val_accuracy: 0.6009\n",
      "Epoch 36/60\n",
      "901/901 [==============================] - 84s 93ms/step - loss: 1.0289 - accuracy: 0.6053 - val_loss: 1.0975 - val_accuracy: 0.5933\n",
      "Epoch 37/60\n",
      "901/901 [==============================] - 80s 89ms/step - loss: 1.0217 - accuracy: 0.6133 - val_loss: 1.0903 - val_accuracy: 0.5971\n",
      "Epoch 38/60\n",
      "901/901 [==============================] - 82s 91ms/step - loss: 1.0146 - accuracy: 0.6149 - val_loss: 1.1036 - val_accuracy: 0.5870\n",
      "Epoch 39/60\n",
      "901/901 [==============================] - 96s 106ms/step - loss: 1.0085 - accuracy: 0.6142 - val_loss: 1.0936 - val_accuracy: 0.5977\n",
      "Epoch 40/60\n",
      "901/901 [==============================] - 92s 102ms/step - loss: 1.0116 - accuracy: 0.6148 - val_loss: 1.0817 - val_accuracy: 0.5955\n",
      "Epoch 41/60\n",
      "901/901 [==============================] - 101s 112ms/step - loss: 1.0081 - accuracy: 0.6186 - val_loss: 1.0877 - val_accuracy: 0.5979\n",
      "Epoch 42/60\n",
      "901/901 [==============================] - 101s 112ms/step - loss: 0.9996 - accuracy: 0.6173 - val_loss: 1.0919 - val_accuracy: 0.6003\n",
      "Epoch 43/60\n",
      "901/901 [==============================] - 104s 115ms/step - loss: 1.0012 - accuracy: 0.6206 - val_loss: 1.0890 - val_accuracy: 0.6009\n",
      "Epoch 44/60\n",
      "901/901 [==============================] - 87s 97ms/step - loss: 0.9919 - accuracy: 0.6241 - val_loss: 1.0951 - val_accuracy: 0.5978\n",
      "Epoch 45/60\n",
      "901/901 [==============================] - 103s 115ms/step - loss: 0.9898 - accuracy: 0.6203 - val_loss: 1.0822 - val_accuracy: 0.6046\n",
      "Epoch 46/60\n",
      "901/901 [==============================] - 103s 115ms/step - loss: 0.9921 - accuracy: 0.6248 - val_loss: 1.0964 - val_accuracy: 0.5896\n",
      "Epoch 47/60\n",
      "901/901 [==============================] - 105s 117ms/step - loss: 0.9845 - accuracy: 0.6267 - val_loss: 1.0885 - val_accuracy: 0.6016\n",
      "Epoch 48/60\n",
      "901/901 [==============================] - 106s 118ms/step - loss: 0.9834 - accuracy: 0.6237 - val_loss: 1.1055 - val_accuracy: 0.5899\n",
      "Epoch 49/60\n",
      "901/901 [==============================] - 101s 112ms/step - loss: 0.9759 - accuracy: 0.6262 - val_loss: 1.0940 - val_accuracy: 0.6013\n",
      "Epoch 50/60\n",
      "901/901 [==============================] - 103s 115ms/step - loss: 0.9785 - accuracy: 0.6244 - val_loss: 1.1110 - val_accuracy: 0.5893\n",
      "Epoch 51/60\n",
      "901/901 [==============================] - 96s 107ms/step - loss: 0.9673 - accuracy: 0.6300 - val_loss: 1.0886 - val_accuracy: 0.6006\n",
      "Epoch 52/60\n",
      "901/901 [==============================] - 97s 107ms/step - loss: 0.9697 - accuracy: 0.6322 - val_loss: 1.0792 - val_accuracy: 0.6066\n",
      "Epoch 53/60\n",
      "901/901 [==============================] - 97s 107ms/step - loss: 0.9650 - accuracy: 0.6351 - val_loss: 1.0820 - val_accuracy: 0.6077\n",
      "Epoch 54/60\n",
      "901/901 [==============================] - 95s 105ms/step - loss: 0.9625 - accuracy: 0.6357 - val_loss: 1.0795 - val_accuracy: 0.6027\n",
      "Epoch 55/60\n",
      "901/901 [==============================] - 123s 137ms/step - loss: 0.9656 - accuracy: 0.6322 - val_loss: 1.0863 - val_accuracy: 0.6053\n",
      "Epoch 56/60\n",
      "901/901 [==============================] - 130s 144ms/step - loss: 0.9592 - accuracy: 0.6352 - val_loss: 1.0819 - val_accuracy: 0.6030\n",
      "Epoch 57/60\n",
      "901/901 [==============================] - 104s 115ms/step - loss: 0.9566 - accuracy: 0.6309 - val_loss: 1.0733 - val_accuracy: 0.6061\n",
      "Epoch 58/60\n",
      "901/901 [==============================] - 100s 110ms/step - loss: 0.9532 - accuracy: 0.6345 - val_loss: 1.0756 - val_accuracy: 0.6071\n",
      "Epoch 59/60\n",
      "901/901 [==============================] - 102s 114ms/step - loss: 0.9493 - accuracy: 0.6365 - val_loss: 1.0974 - val_accuracy: 0.5974\n",
      "Epoch 60/60\n",
      "901/901 [==============================] - 105s 117ms/step - loss: 0.9458 - accuracy: 0.6403 - val_loss: 1.0885 - val_accuracy: 0.6016\n"
     ]
    }
   ],
   "source": [
    "history = model.fit(train_data_gen, epochs=60,\n",
    "validation_data= val_data_gen,)"
   ]
  },
  {
   "cell_type": "code",
   "execution_count": 1,
   "metadata": {},
   "outputs": [
    {
     "ename": "NameError",
     "evalue": "name 'model' is not defined",
     "output_type": "error",
     "traceback": [
      "\u001b[1;31m---------------------------------------------------------------------------\u001b[0m",
      "\u001b[1;31mNameError\u001b[0m                                 Traceback (most recent call last)",
      "Cell \u001b[1;32mIn[1], line 1\u001b[0m\n\u001b[1;32m----> 1\u001b[0m \u001b[43mmodel\u001b[49m\u001b[38;5;241m.\u001b[39msave(\u001b[38;5;124m'\u001b[39m\u001b[38;5;124mmodel.h5\u001b[39m\u001b[38;5;124m'\u001b[39m)\n",
      "\u001b[1;31mNameError\u001b[0m: name 'model' is not defined"
     ]
    }
   ],
   "source": [
    "model.save('model.h5')"
   ]
  },
  {
   "cell_type": "markdown",
   "metadata": {},
   "source": []
  }
 ],
 "metadata": {
  "kernelspec": {
   "display_name": "cursor2",
   "language": "python",
   "name": "python3"
  },
  "language_info": {
   "codemirror_mode": {
    "name": "ipython",
    "version": 3
   },
   "file_extension": ".py",
   "mimetype": "text/x-python",
   "name": "python",
   "nbconvert_exporter": "python",
   "pygments_lexer": "ipython3",
   "version": "3.8.18"
  }
 },
 "nbformat": 4,
 "nbformat_minor": 2
}
